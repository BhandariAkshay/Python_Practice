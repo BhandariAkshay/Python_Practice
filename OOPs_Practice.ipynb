{
 "cells": [
  {
   "cell_type": "code",
   "execution_count": 9,
   "metadata": {},
   "outputs": [
    {
     "name": "stdout",
     "output_type": "stream",
     "text": [
      "Terrorist Name is Goku and his health is 50\n"
     ]
    }
   ],
   "source": [
    "terr1_name = 'Goku'\n",
    "terr1_health = 50\n",
    "terr1_inventory = {'Sniper' : 1, 'Pistol': 2}\n",
    "print(\"Terrorist Name is %s and his health is %s\" % (terr1_name, terr1_health))\n",
    "    "
   ]
  },
  {
   "cell_type": "code",
   "execution_count": 11,
   "metadata": {},
   "outputs": [
    {
     "name": "stdout",
     "output_type": "stream",
     "text": [
      "Terrorist Name is Goku and his health is 50\n"
     ]
    }
   ],
   "source": [
    "terr2_name = 'Mojo'\n",
    "terr2_health = 80\n",
    "terr2_inventory = {'Knife' : 1, 'Machine Gun': 1}\n",
    "print(\"Terrorist Name is %s and his health is %s\" % (terr1_name, terr1_health))"
   ]
  },
  {
   "cell_type": "code",
   "execution_count": 15,
   "metadata": {},
   "outputs": [
    {
     "name": "stdout",
     "output_type": "stream",
     "text": [
      "Terrorist Name is Goku and his health is 80\n"
     ]
    }
   ],
   "source": [
    "terr_names = ['Goku', 'Mojo']\n",
    "terr_health = [80, 73]\n",
    "terr_inventories = [{'Sniper' : 1, 'Pistol': {'With Silencer': 2, 'Without Silencer': 2}}, {'Knife' : 1, 'Machine Gun': 1}]\n",
    "print(\"Terrorist Name is %s and his health is %s\" % (terr_names[0], terr_health[0]))"
   ]
  },
  {
   "cell_type": "code",
   "execution_count": 22,
   "metadata": {},
   "outputs": [
    {
     "ename": "NameError",
     "evalue": "name 'name' is not defined",
     "output_type": "error",
     "traceback": [
      "\u001b[1;31m---------------------------------------------------------------------------\u001b[0m",
      "\u001b[1;31mNameError\u001b[0m                                 Traceback (most recent call last)",
      "\u001b[1;32m<ipython-input-22-aff160c28786>\u001b[0m in \u001b[0;36m<module>\u001b[1;34m\u001b[0m\n\u001b[1;32m----> 1\u001b[1;33m \u001b[1;32mclass\u001b[0m \u001b[0mplayer\u001b[0m\u001b[1;33m(\u001b[0m\u001b[0mname\u001b[0m\u001b[1;33m,\u001b[0m \u001b[0mhealth\u001b[0m\u001b[1;33m,\u001b[0m \u001b[0minventory\u001b[0m\u001b[1;33m)\u001b[0m\u001b[1;33m:\u001b[0m\u001b[1;33m\u001b[0m\u001b[1;33m\u001b[0m\u001b[0m\n\u001b[0m\u001b[0;32m      2\u001b[0m     \u001b[0mself\u001b[0m\u001b[1;33m.\u001b[0m\u001b[0mname\u001b[0m \u001b[1;33m=\u001b[0m \u001b[0mname\u001b[0m\u001b[1;33m\u001b[0m\u001b[1;33m\u001b[0m\u001b[0m\n\u001b[0;32m      3\u001b[0m     \u001b[0mself\u001b[0m\u001b[1;33m.\u001b[0m\u001b[0mhealth\u001b[0m \u001b[1;33m=\u001b[0m \u001b[0mhealth\u001b[0m\u001b[1;33m\u001b[0m\u001b[1;33m\u001b[0m\u001b[0m\n\u001b[0;32m      4\u001b[0m     \u001b[0mself\u001b[0m\u001b[1;33m.\u001b[0m\u001b[0minventory\u001b[0m \u001b[1;33m=\u001b[0m \u001b[0minventory\u001b[0m\u001b[1;33m\u001b[0m\u001b[1;33m\u001b[0m\u001b[0m\n\u001b[0;32m      5\u001b[0m \u001b[1;33m\u001b[0m\u001b[0m\n",
      "\u001b[1;31mNameError\u001b[0m: name 'name' is not defined"
     ]
    }
   ],
   "source": [
    "class player(name, health, inventory):\n",
    "    self.name = name\n",
    "    self.health = health\n",
    "    self.inventory = inventory\n",
    "        \n",
    "t1 = player('Goku', 100, {'Sniper' : 1, 'Pistol': 2})\n",
    "print(\"Terrorist Name is %s and his health is %s percent\" % (t1.name, t1.health))"
   ]
  },
  {
   "cell_type": "code",
   "execution_count": 25,
   "metadata": {},
   "outputs": [
    {
     "name": "stdout",
     "output_type": "stream",
     "text": [
      "Terrorist Name is Goku and his health is 100 percent\n"
     ]
    }
   ],
   "source": [
    "class player():\n",
    "    def __init__(self, name, health, inventory):\n",
    "        self.name = name\n",
    "        self.health = health\n",
    "        self.inventory = inventory\n",
    "        self.armour = 0\n",
    "        \n",
    "t1 = player('Goku', 100, {'Sniper' : 1, 'Pistol': 2})\n",
    "print(\"Terrorist Name is %s and his health is %s percent\" % (t1.name, t1.health))"
   ]
  },
  {
   "cell_type": "code",
   "execution_count": 27,
   "metadata": {},
   "outputs": [],
   "source": [
    "class contact():\n",
    "    def __init__(self, name, number, email):\n",
    "        print(f'New Contact for {name} created.')\n",
    "        self.name = name\n",
    "        self.number = number\n",
    "        self.email = email\n",
    "        \n",
    "    def call(self):\n",
    "        print('Calling {}... on {}...'.format(self.name, self.number))\n",
    "        \n",
    "    def message(self, txt):\n",
    "        print('Sending message on {}'.format(self.number))\n",
    "        print('Message: {}'.format(txt))"
   ]
  },
  {
   "cell_type": "code",
   "execution_count": 38,
   "metadata": {},
   "outputs": [
    {
     "name": "stdout",
     "output_type": "stream",
     "text": [
      "New Contact for Rajjo created.\n",
      "New Contact for office created.\n"
     ]
    }
   ],
   "source": [
    "contact1 = contact('Rajjo', '9975870571', 'rajjo@gmail.com')\n",
    "contact2 = contact('office', '999999999', 'someoffice@gmail.com')"
   ]
  },
  {
   "cell_type": "code",
   "execution_count": 29,
   "metadata": {},
   "outputs": [
    {
     "name": "stdout",
     "output_type": "stream",
     "text": [
      "Calling Rajjo... on 9975870571...\n"
     ]
    }
   ],
   "source": [
    "contact1.call()"
   ]
  },
  {
   "cell_type": "code",
   "execution_count": 31,
   "metadata": {},
   "outputs": [
    {
     "name": "stdout",
     "output_type": "stream",
     "text": [
      "Sending message on 9975870571\n",
      "Message: Hi bro wassup?\n"
     ]
    }
   ],
   "source": [
    "contact1.message('Hi bro wassup?')"
   ]
  },
  {
   "cell_type": "code",
   "execution_count": 33,
   "metadata": {},
   "outputs": [
    {
     "name": "stdout",
     "output_type": "stream",
     "text": [
      "Please enter your name: ABC\n",
      "Please enter your number: 7894561230\n",
      "Please enter your email: abc@pqr.com\n",
      "New Contact for ABC created.\n"
     ]
    }
   ],
   "source": [
    "def createNewContact():\n",
    "    name = input(\"Please enter your name: \")\n",
    "    number = input(\"Please enter your number: \")\n",
    "    email = input(\"Please enter your email: \")\n",
    "    new_contact = contact(name, number, email)\n",
    "    return new_contact\n",
    "\n",
    "contact3 = createNewContact()"
   ]
  },
  {
   "cell_type": "code",
   "execution_count": 41,
   "metadata": {},
   "outputs": [],
   "source": [
    "def update_contact(c):\n",
    "    name = input(\"{} \".format(c.name))\n",
    "    number = input(\"{} \".format(c.number))\n",
    "    email = input(\"{} \".format(c.email))\n",
    "    c.name = name\n",
    "    c.number = number\n",
    "    c.email = email\n",
    "    print('Contact Updates Successfully')"
   ]
  },
  {
   "cell_type": "code",
   "execution_count": 43,
   "metadata": {},
   "outputs": [
    {
     "name": "stdout",
     "output_type": "stream",
     "text": [
      "New_office Old_ofc\n",
      "888888888 9999999\n",
      "xyz@prq.com kkk@kkk.vvv\n",
      "Contact Updates Successfully\n"
     ]
    }
   ],
   "source": [
    "update_contact(contact2)"
   ]
  },
  {
   "cell_type": "code",
   "execution_count": 45,
   "metadata": {},
   "outputs": [
    {
     "data": {
      "text/plain": [
       "('Old_ofc', 'kkk@kkk.vvv', '9999999')"
      ]
     },
     "execution_count": 45,
     "metadata": {},
     "output_type": "execute_result"
    }
   ],
   "source": [
    "contact2.name, contact2.email, contact2.number"
   ]
  },
  {
   "cell_type": "code",
   "execution_count": 60,
   "metadata": {},
   "outputs": [
    {
     "name": "stdout",
     "output_type": "stream",
     "text": [
      "The selling price is 1000\n",
      "The selling price is 3000\n",
      "The selling price is 2000\n"
     ]
    }
   ],
   "source": [
    "#Encapsulation\n",
    "class computer:\n",
    "    def __init__(self):\n",
    "        self.maxprice = 1000\n",
    "    \n",
    "    def sell(self):\n",
    "        print(\"The selling price is {}\".format(self.maxprice))\n",
    "    \n",
    "    def setMaxPrice(self, price):\n",
    "        self.maxprice = price\n",
    "        \n",
    "comp1 = computer()\n",
    "comp1.sell()\n",
    "\n",
    "comp1.maxprice = 3000\n",
    "comp1.sell()\n",
    "\n",
    "comp1.setMaxPrice(2000)\n",
    "comp1.sell()"
   ]
  },
  {
   "cell_type": "code",
   "execution_count": null,
   "metadata": {},
   "outputs": [],
   "source": []
  },
  {
   "cell_type": "code",
   "execution_count": 58,
   "metadata": {},
   "outputs": [
    {
     "name": "stdout",
     "output_type": "stream",
     "text": [
      "The selling price is 1000\n",
      "The selling price is 1000\n",
      "The selling price is 2000\n"
     ]
    }
   ],
   "source": [
    "#Encapsulation\n",
    "class computer:\n",
    "    def __init__(self):\n",
    "        self.__maxprice = 1000\n",
    "    \n",
    "    def sell(self):\n",
    "        print(\"The selling price is {}\".format(self.__maxprice))\n",
    "    \n",
    "    def setMaxPrice(self, price):\n",
    "        self.__maxprice = price\n",
    "        \n",
    "comp1 = computer()\n",
    "comp1.sell()\n",
    "\n",
    "comp1.__maxprice = 3000\n",
    "comp1.sell()\n",
    "\n",
    "comp1.setMaxPrice(2000)\n",
    "comp1.sell()"
   ]
  },
  {
   "cell_type": "code",
   "execution_count": 70,
   "metadata": {},
   "outputs": [
    {
     "name": "stdout",
     "output_type": "stream",
     "text": [
      "We are initializing Car class\n",
      "We are in Ford Class\n",
      "The engine power of Ford Mustang is 4000\n",
      "The avegrage of Ford is 25 km/ltr\n",
      "The Engine type is BS VI\n"
     ]
    }
   ],
   "source": [
    "#parent class\n",
    "class Car:\n",
    "    def __init__(self):\n",
    "        print(\"We are initializing Car class\")\n",
    "    \n",
    "    def average(self, brand, avg):\n",
    "        self.brand = brand\n",
    "        self.avg = avg\n",
    "        print(\"The avegrage of {} is {} km/ltr\".format(self.brand, self.avg))\n",
    "        \n",
    "    def carProperties(self):\n",
    "        self.type_of_engine = 'BS VI'\n",
    "        print(\"The Engine type is {}\".format(self.type_of_engine))\n",
    "\n",
    "class Ford(Car):\n",
    "    def __init__(self):\n",
    "        super().__init__()\n",
    "        self.brand = 'Ford Mustang'\n",
    "        print(\"We are in Ford Class\")\n",
    "    \n",
    "    def enginePower(self):\n",
    "        self.enginepower = '4000'\n",
    "        print(\"The engine power of {} is {}\".format(self.brand, self.enginepower))\n",
    "        \n",
    "        \n",
    "car1 = Ford()\n",
    "car1.enginePower()\n",
    "car1.average('Ford', 25)\n",
    "car1.carProperties()"
   ]
  },
  {
   "cell_type": "code",
   "execution_count": 72,
   "metadata": {},
   "outputs": [
    {
     "name": "stdout",
     "output_type": "stream",
     "text": [
      "We are initializing Car class\n",
      "We are in Ford Class\n",
      "The engine power of Ford Mustang is 4000\n",
      "The avegrage of Ford is 25 km/ltr\n",
      "The Engine type is BS VI\n"
     ]
    }
   ],
   "source": [
    "#Multiple Inheritance\n",
    "#parent class 1\n",
    "class Car:\n",
    "    def __init__(self):\n",
    "        print(\"We are initializing Car class\")\n",
    "    \n",
    "    def average(self, brand, avg):\n",
    "        self.brand = brand\n",
    "        self.avg = avg\n",
    "        print(\"The avegrage of {} is {} km/ltr\".format(self.brand, self.avg))\n",
    "\n",
    "#Parent Class 2       \n",
    "class CarProperties:\n",
    "    def carProperties(self):\n",
    "        self.type_of_engine = 'BS VI'\n",
    "        print(\"The Engine type is {}\".format(self.type_of_engine))\n",
    "        \n",
    "#child class\n",
    "class Ford(Car, CarProperties):\n",
    "    def __init__(self):\n",
    "        super().__init__()\n",
    "        self.brand = 'Ford Mustang'\n",
    "        print(\"We are in Ford Class\")\n",
    "    \n",
    "    def enginePower(self):\n",
    "        self.enginepower = '4000'\n",
    "        print(\"The engine power of {} is {}\".format(self.brand, self.enginepower))\n",
    "        \n",
    "        \n",
    "car1 = Ford()\n",
    "car1.enginePower()\n",
    "car1.average('Ford', 25)\n",
    "car1.carProperties()"
   ]
  },
  {
   "cell_type": "code",
   "execution_count": 78,
   "metadata": {},
   "outputs": [
    {
     "name": "stdout",
     "output_type": "stream",
     "text": [
      "25\n",
      "3.14\n"
     ]
    }
   ],
   "source": [
    "#Single level polymorphism\n",
    "class Circle:\n",
    "    \n",
    "    def area(self, radius):\n",
    "        return 3.14 * (radius**2)\n",
    "    \n",
    "class Square:\n",
    "    \n",
    "    def area(self, length):\n",
    "        return length**2\n",
    "    \n",
    "c1 = Circle()\n",
    "s1 = Square()\n",
    "\n",
    "print(s1.area(5))\n",
    "print(c1.area(1))\n",
    "    "
   ]
  },
  {
   "cell_type": "code",
   "execution_count": 85,
   "metadata": {},
   "outputs": [
    {
     "name": "stdout",
     "output_type": "stream",
     "text": [
      "16\n",
      "12.56\n"
     ]
    }
   ],
   "source": [
    "#Polymorphism and Inheritance\n",
    "\n",
    "class Shape:\n",
    "    def __init__(self, name):\n",
    "        self.name = name\n",
    "        \n",
    "    def area(self):\n",
    "        pass\n",
    "    \n",
    "class Circle(Shape):\n",
    "    def __init__(self, radius):\n",
    "        super().__init__('Circle')\n",
    "        self.radius = radius\n",
    "            \n",
    "    def area(self):\n",
    "        return 3.14 * (self.radius**2)\n",
    "    \n",
    "class Square(Shape):\n",
    "    def __init__(self, length):\n",
    "        super().__init__('Square')\n",
    "        self.length = length\n",
    "        \n",
    "    def area(self):\n",
    "        return self.length**2\n",
    "    \n",
    "s2 = Square(4)\n",
    "print(s2.area())    \n",
    "\n",
    "c2 = Circle(2)\n",
    "print(c2.area())"
   ]
  },
  {
   "cell_type": "code",
   "execution_count": 90,
   "metadata": {},
   "outputs": [
    {
     "ename": "TypeError",
     "evalue": "Can't instantiate abstract class Square with abstract methods area",
     "output_type": "error",
     "traceback": [
      "\u001b[1;31m---------------------------------------------------------------------------\u001b[0m",
      "\u001b[1;31mTypeError\u001b[0m                                 Traceback (most recent call last)",
      "\u001b[1;32m<ipython-input-90-e537844b7282>\u001b[0m in \u001b[0;36m<module>\u001b[1;34m\u001b[0m\n\u001b[0;32m     24\u001b[0m      \u001b[1;31m#   return self.length**2\u001b[0m\u001b[1;33m\u001b[0m\u001b[1;33m\u001b[0m\u001b[1;33m\u001b[0m\u001b[0m\n\u001b[0;32m     25\u001b[0m \u001b[1;33m\u001b[0m\u001b[0m\n\u001b[1;32m---> 26\u001b[1;33m \u001b[0ms2\u001b[0m \u001b[1;33m=\u001b[0m \u001b[0mSquare\u001b[0m\u001b[1;33m(\u001b[0m\u001b[1;36m4\u001b[0m\u001b[1;33m)\u001b[0m\u001b[1;33m\u001b[0m\u001b[1;33m\u001b[0m\u001b[0m\n\u001b[0m\u001b[0;32m     27\u001b[0m \u001b[0mprint\u001b[0m\u001b[1;33m(\u001b[0m\u001b[0ms2\u001b[0m\u001b[1;33m.\u001b[0m\u001b[0marea\u001b[0m\u001b[1;33m(\u001b[0m\u001b[1;33m)\u001b[0m\u001b[1;33m)\u001b[0m\u001b[1;33m\u001b[0m\u001b[1;33m\u001b[0m\u001b[0m\n\u001b[0;32m     28\u001b[0m \u001b[1;33m\u001b[0m\u001b[0m\n",
      "\u001b[1;31mTypeError\u001b[0m: Can't instantiate abstract class Square with abstract methods area"
     ]
    }
   ],
   "source": [
    "#Abstraction\n",
    "from abc import ABC, abstractmethod\n",
    "class Shape(ABC):\n",
    "    def __init__(self, name):\n",
    "        self.name = name\n",
    "    @abstractmethod    \n",
    "    def area(self):\n",
    "        pass\n",
    "    \n",
    "class Circle(Shape):\n",
    "    def __init__(self, radius):\n",
    "        super().__init__('Circle')\n",
    "        self.radius = radius\n",
    "            \n",
    "    def area(self):\n",
    "        return 3.14 * (self.radius**2)\n",
    "    \n",
    "class Square(Shape):\n",
    "    def __init__(self, length):\n",
    "        super().__init__('Square')\n",
    "        self.length = length\n",
    "        \n",
    "    #def area(self):\n",
    "     #   return self.length**2\n",
    "    \n",
    "s2 = Square(4)\n",
    "print(s2.area())    \n",
    "\n",
    "c2 = Circle(2)\n",
    "print(c2.area())"
   ]
  }
 ],
 "metadata": {
  "kernelspec": {
   "display_name": "Python 3",
   "language": "python",
   "name": "python3"
  },
  "language_info": {
   "codemirror_mode": {
    "name": "ipython",
    "version": 3
   },
   "file_extension": ".py",
   "mimetype": "text/x-python",
   "name": "python",
   "nbconvert_exporter": "python",
   "pygments_lexer": "ipython3",
   "version": "3.8.3"
  }
 },
 "nbformat": 4,
 "nbformat_minor": 4
}
