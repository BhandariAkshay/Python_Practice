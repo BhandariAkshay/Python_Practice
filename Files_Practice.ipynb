{
 "cells": [
  {
   "cell_type": "code",
   "execution_count": 7,
   "metadata": {},
   "outputs": [
    {
     "name": "stdout",
     "output_type": "stream",
     "text": [
      "This is a stuff I typed into a file.\n",
      "It's really cool stuff.\n",
      "Lots and lots of Fun to be here.\n",
      "\n",
      "\n",
      "\n"
     ]
    }
   ],
   "source": [
    "file1 = open(\"E:\\Tech Courses\\Python\\Python Codes\\ex15_sample.txt\")\n",
    "print(file1.read())\n",
    "print(file1.read())\n",
    "print(file1.read())\n",
    "file1.close()"
   ]
  },
  {
   "cell_type": "code",
   "execution_count": 8,
   "metadata": {},
   "outputs": [
    {
     "name": "stdout",
     "output_type": "stream",
     "text": [
      "['This is a stuff I typed into a file.\\n', \"It's really cool stuff.\\n\", 'Lots and lots of Fun to be here.\\n']\n"
     ]
    }
   ],
   "source": [
    "file1 = open(\"E:\\Tech Courses\\Python\\Python Codes\\ex15_sample.txt\")\n",
    "print(file1.readlines())\n",
    "file1.close()"
   ]
  },
  {
   "cell_type": "code",
   "execution_count": 10,
   "metadata": {},
   "outputs": [
    {
     "data": {
      "text/plain": [
       "\"This is a stuff I typed into a file.\\nIt's really cool stuff.\\nLots and lots of Fun to be here.\\n\""
      ]
     },
     "execution_count": 10,
     "metadata": {},
     "output_type": "execute_result"
    }
   ],
   "source": [
    "file1 = open(\"E:\\Tech Courses\\Python\\Python Codes\\ex15_sample.txt\")\n",
    "txt = file1.read()\n",
    "txt\n",
    "file1.close()"
   ]
  },
  {
   "cell_type": "code",
   "execution_count": 11,
   "metadata": {},
   "outputs": [
    {
     "ename": "FileNotFoundError",
     "evalue": "[Errno 2] No such file or directory: 'E:\\\\Tech Courses\\\\Python\\\\Python Codes\\\\ex15_sampe.txt'",
     "output_type": "error",
     "traceback": [
      "\u001b[1;31m---------------------------------------------------------------------------\u001b[0m",
      "\u001b[1;31mFileNotFoundError\u001b[0m                         Traceback (most recent call last)",
      "\u001b[1;32m<ipython-input-11-f6c377cdd9de>\u001b[0m in \u001b[0;36m<module>\u001b[1;34m\u001b[0m\n\u001b[1;32m----> 1\u001b[1;33m \u001b[0mfile1\u001b[0m \u001b[1;33m=\u001b[0m \u001b[0mopen\u001b[0m\u001b[1;33m(\u001b[0m\u001b[1;34m\"E:\\Tech Courses\\Python\\Python Codes\\ex15_sampe.txt\"\u001b[0m\u001b[1;33m)\u001b[0m\u001b[1;33m\u001b[0m\u001b[1;33m\u001b[0m\u001b[0m\n\u001b[0m\u001b[0;32m      2\u001b[0m \u001b[0mprint\u001b[0m\u001b[1;33m(\u001b[0m\u001b[0mfile1\u001b[0m\u001b[1;33m.\u001b[0m\u001b[0mread\u001b[0m\u001b[1;33m(\u001b[0m\u001b[1;33m)\u001b[0m\u001b[1;33m)\u001b[0m\u001b[1;33m\u001b[0m\u001b[1;33m\u001b[0m\u001b[0m\n",
      "\u001b[1;31mFileNotFoundError\u001b[0m: [Errno 2] No such file or directory: 'E:\\\\Tech Courses\\\\Python\\\\Python Codes\\\\ex15_sampe.txt'"
     ]
    }
   ],
   "source": [
    "file1 = open(\"E:\\Tech Courses\\Python\\Python Codes\\ex15_sampe.txt\")\n",
    "print(file1.read())\n",
    "file1.close()"
   ]
  },
  {
   "cell_type": "code",
   "execution_count": 13,
   "metadata": {},
   "outputs": [
    {
     "ename": "UnsupportedOperation",
     "evalue": "not readable",
     "output_type": "error",
     "traceback": [
      "\u001b[1;31m---------------------------------------------------------------------------\u001b[0m",
      "\u001b[1;31mUnsupportedOperation\u001b[0m                      Traceback (most recent call last)",
      "\u001b[1;32m<ipython-input-13-33a0919c3429>\u001b[0m in \u001b[0;36m<module>\u001b[1;34m\u001b[0m\n\u001b[0;32m      1\u001b[0m \u001b[0mfile2\u001b[0m \u001b[1;33m=\u001b[0m \u001b[0mopen\u001b[0m\u001b[1;33m(\u001b[0m\u001b[1;34m\"E:\\Tech Courses\\Python\\Python Codes\\sample.txt\"\u001b[0m\u001b[1;33m,\u001b[0m \u001b[1;34m'w'\u001b[0m\u001b[1;33m)\u001b[0m\u001b[1;33m\u001b[0m\u001b[1;33m\u001b[0m\u001b[0m\n\u001b[1;32m----> 2\u001b[1;33m \u001b[0mprint\u001b[0m\u001b[1;33m(\u001b[0m\u001b[0mfile2\u001b[0m\u001b[1;33m.\u001b[0m\u001b[0mread\u001b[0m\u001b[1;33m(\u001b[0m\u001b[1;33m)\u001b[0m\u001b[1;33m)\u001b[0m\u001b[1;33m\u001b[0m\u001b[1;33m\u001b[0m\u001b[0m\n\u001b[0m",
      "\u001b[1;31mUnsupportedOperation\u001b[0m: not readable"
     ]
    }
   ],
   "source": [
    "file2 = open(\"E:\\Tech Courses\\Python\\Python Codes\\sample.txt\", 'w')\n",
    "print(file2.read())\n",
    "file2.close()"
   ]
  },
  {
   "cell_type": "code",
   "execution_count": 16,
   "metadata": {},
   "outputs": [],
   "source": [
    "file2 = open(\"E:\\Tech Courses\\Python\\Python Codes\\sample.txt\", 'w')\n",
    "file2.write(\"I love coding in Python\")\n",
    "file2.close()"
   ]
  },
  {
   "cell_type": "code",
   "execution_count": 27,
   "metadata": {},
   "outputs": [],
   "source": [
    "file2 = open(\"E:\\Tech Courses\\Python\\Python Codes\\sample.txt\", 'a')\n",
    "file2.write(\"\\n\" + \"I really need Python for data sciecne\")\n",
    "file2.close()"
   ]
  },
  {
   "cell_type": "code",
   "execution_count": 29,
   "metadata": {},
   "outputs": [],
   "source": [
    "file2 = open(\"E:\\Tech Courses\\Python\\Python Codes\\sample.txt\")\n",
    "file2.read()\n",
    "file2.close()"
   ]
  },
  {
   "cell_type": "code",
   "execution_count": 39,
   "metadata": {},
   "outputs": [
    {
     "data": {
      "text/plain": [
       "['bhandari.akshay94@gmail.com\\n',\n",
       " 'abc@pqr.com\\n',\n",
       " 'ab_cd@xyz.org\\n',\n",
       " 'pqrst.88@gmail.com']"
      ]
     },
     "execution_count": 39,
     "metadata": {},
     "output_type": "execute_result"
    }
   ],
   "source": [
    "import re\n",
    "\n",
    "def search_regex(filepath, regex):\n",
    "    reg = re.compile(regex)\n",
    "    file = open(filepath)\n",
    "    lines = file.readlines()\n",
    "    output = []\n",
    "    for i in lines:\n",
    "        if(reg.match(i)):\n",
    "            output.append(i)\n",
    "        else:\n",
    "            continue\n",
    "    file.close()\n",
    "    return output\n",
    "\n",
    "email_rgx = '[\\w.]+@\\w+\\.[a-z]{3}'\n",
    "file_path = 'E:\\Tech Courses\\Python\\Python Codes\\sample.txt'\n",
    "matchList = search_regex(file_path, email_rgx)\n",
    "matchList"
   ]
  },
  {
   "cell_type": "code",
   "execution_count": 46,
   "metadata": {},
   "outputs": [
    {
     "data": {
      "text/plain": [
       "['bhandari.akshay94@gmail.com',\n",
       " 'abc@pqr.com',\n",
       " 'ab_cd@xyz.org',\n",
       " 'pqrst.88@gmail.com']"
      ]
     },
     "execution_count": 46,
     "metadata": {},
     "output_type": "execute_result"
    }
   ],
   "source": [
    "import re\n",
    "\n",
    "def search_regex(filepath, regex):\n",
    "    reg = re.compile(regex)\n",
    "    file = open(filepath)\n",
    "    lines = file.read()\n",
    "    output = reg.findall(lines)\n",
    "    file.close()\n",
    "    return output\n",
    "\n",
    "email_rgx = '[\\w.]+@\\w+\\.[a-z]{3}'\n",
    "file_path = 'E:\\Tech Courses\\Python\\Python Codes\\sample.txt'\n",
    "matchList = search_regex(file_path, email_rgx)\n",
    "matchList"
   ]
  },
  {
   "cell_type": "code",
   "execution_count": 47,
   "metadata": {},
   "outputs": [
    {
     "data": {
      "text/plain": [
       "['9975870571', '8291894256']"
      ]
     },
     "execution_count": 47,
     "metadata": {},
     "output_type": "execute_result"
    }
   ],
   "source": [
    "mobile_rgx = '[0-9]{10}'\n",
    "matchList = search_regex(file_path, mobile_rgx)\n",
    "matchList"
   ]
  },
  {
   "cell_type": "code",
   "execution_count": 50,
   "metadata": {},
   "outputs": [
    {
     "data": {
      "text/plain": [
       "['02.11.1994']"
      ]
     },
     "execution_count": 50,
     "metadata": {},
     "output_type": "execute_result"
    }
   ],
   "source": [
    "date_rgx = '[0-9]{2}\\.[0-9]{2}\\.[0-9]{4}'\n",
    "matchList = search_regex(file_path, date_rgx)\n",
    "matchList"
   ]
  },
  {
   "cell_type": "code",
   "execution_count": 1,
   "metadata": {},
   "outputs": [
    {
     "ename": "NameError",
     "evalue": "name 'filepath' is not defined",
     "output_type": "error",
     "traceback": [
      "\u001b[1;31m---------------------------------------------------------------------------\u001b[0m",
      "\u001b[1;31mNameError\u001b[0m                                 Traceback (most recent call last)",
      "\u001b[1;32m<ipython-input-1-5e56a574a4ed>\u001b[0m in \u001b[0;36m<module>\u001b[1;34m\u001b[0m\n\u001b[0;32m      1\u001b[0m \u001b[0mfile_path\u001b[0m \u001b[1;33m=\u001b[0m \u001b[1;34m'E:\\Tech Courses\\Python\\Python Codes'\u001b[0m \u001b[1;31m#tried accessing folder\u001b[0m\u001b[1;33m\u001b[0m\u001b[1;33m\u001b[0m\u001b[0m\n\u001b[1;32m----> 2\u001b[1;33m \u001b[0mfile\u001b[0m \u001b[1;33m=\u001b[0m \u001b[0mopen\u001b[0m\u001b[1;33m(\u001b[0m\u001b[0mfilepath\u001b[0m\u001b[1;33m)\u001b[0m\u001b[1;33m\u001b[0m\u001b[1;33m\u001b[0m\u001b[0m\n\u001b[0m",
      "\u001b[1;31mNameError\u001b[0m: name 'filepath' is not defined"
     ]
    }
   ],
   "source": [
    "file_path = 'E:\\Tech Courses\\Python\\Python Codes' #tried accessing folder\n",
    "file = open(filepath)"
   ]
  },
  {
   "cell_type": "code",
   "execution_count": null,
   "metadata": {},
   "outputs": [],
   "source": [
    "file_path = 'E:\\Tech Courses\\Python\\Python Codes\\sample.txt'\n",
    "file3 = open(file_path, '')"
   ]
  }
 ],
 "metadata": {
  "kernelspec": {
   "display_name": "Python 3",
   "language": "python",
   "name": "python3"
  },
  "language_info": {
   "codemirror_mode": {
    "name": "ipython",
    "version": 3
   },
   "file_extension": ".py",
   "mimetype": "text/x-python",
   "name": "python",
   "nbconvert_exporter": "python",
   "pygments_lexer": "ipython3",
   "version": "3.8.3"
  }
 },
 "nbformat": 4,
 "nbformat_minor": 4
}
