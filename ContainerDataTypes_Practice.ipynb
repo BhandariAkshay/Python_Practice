{
 "cells": [
  {
   "cell_type": "code",
   "execution_count": 12,
   "metadata": {},
   "outputs": [
    {
     "name": "stdout",
     "output_type": "stream",
     "text": [
      "Counter({'Biscuits': 2, 'Paneer': 1, 'Dry Fruits': 1})\n",
      "Counter({'Biscuits': 2, 'Dry Fruits': 2, 'Paneer': 1})\n",
      "Counter({'Dry Fruits': 7, 'Biscuits': 5})\n"
     ]
    }
   ],
   "source": [
    "#Counters\n",
    "from collections import Counter\n",
    "count = Counter()\n",
    "grocery_list = ['Biscuits', 'Paneer', 'Biscuits', 'Dry Fruits']\n",
    "count.update(grocery_list) # counter over a list\n",
    "print(count)\n",
    "\n",
    "count.update(['Dry Fruits']) \n",
    "print(count)\n",
    "\n",
    "grocery_dict = {'Biscuits':5, \"Dry Fruits\":7} \n",
    "print(Counter(grocery_dict)) #initializing a counter with a Dict"
   ]
  },
  {
   "cell_type": "code",
   "execution_count": 6,
   "metadata": {},
   "outputs": [
    {
     "name": "stdout",
     "output_type": "stream",
     "text": [
      "Ordered Dict\n",
      "a 1\n",
      "b 2\n",
      "c 3\n",
      "d 4\n",
      "Updating an element\n",
      "a 5\n",
      "b 2\n",
      "c 3\n",
      "d 4\n",
      "Deleting and again updating\n",
      "b 2\n",
      "c 3\n",
      "d 4\n",
      "a 5\n"
     ]
    }
   ],
   "source": [
    "#Ordered Dict\n",
    "from collections import OrderedDict\n",
    "print(\"Ordered Dict\")\n",
    "dict2 = OrderedDict()\n",
    "dict2['a'] = 1\n",
    "dict2['b'] = 2\n",
    "dict2['c'] = 3\n",
    "dict2['d'] = 4\n",
    "for k,v in dict2.items():\n",
    "    print(k, v)\n",
    "\n",
    "print(\"Updating an element\")\n",
    "dict2['a'] = 5\n",
    "for k,v in dict2.items():\n",
    "    print(k, v)\n",
    "    \n",
    "print(\"Deleting and again updating\") \n",
    "del dict2['a']\n",
    "dict2['a'] = 5\n",
    "for k,v in dict2.items():\n",
    "    print(k, v)\n",
    "\n"
   ]
  },
  {
   "cell_type": "code",
   "execution_count": 4,
   "metadata": {},
   "outputs": [
    {
     "name": "stdout",
     "output_type": "stream",
     "text": [
      "Implemention normal dict and trying to accress the value that do not exist\n",
      "1\n",
      "2\n",
      "Implementing Default Dict\n",
      "1\n",
      "2\n",
      "Not Present\n",
      "\n",
      " defaultdict(<class 'list'>, {0: ['Akshay'], 1: ['Amar']})\n"
     ]
    }
   ],
   "source": [
    "#Default Dict\n",
    "from collections import defaultdict\n",
    "print(\"Implemention normal dict and trying to accress the value that do not exist\")\n",
    "d1 = {'a':1, 'b':2}\n",
    "print(d1['a'])\n",
    "print(d1['b'])\n",
    "#print(d1['c']) #this will give error\n",
    "\n",
    "def def_value(): \n",
    "    return \"Not Present\"\n",
    "\n",
    "print(\"Implementing Default Dict\")\n",
    "d2 = defaultdict(def_value)\n",
    "d2[\"a\"] = 1\n",
    "d2[\"b\"] = 2\n",
    "print(d2['a'])\n",
    "print(d2['b'])\n",
    "print(d2['c'])\n",
    "\n",
    "\n",
    "\n",
    "d3 = defaultdict(list)\n",
    "d3[0].append(\"Akshay\")\n",
    "d3[1].append(\"Amar\")\n",
    "print(\"\\n\", d3)"
   ]
  },
  {
   "cell_type": "code",
   "execution_count": 20,
   "metadata": {},
   "outputs": [
    {
     "name": "stdout",
     "output_type": "stream",
     "text": [
      "ChainMap({'a': 1, 'b': 2}, {'c': 3, 'd': 4})\n",
      "ChainMap({'a': 1, 'b': 2}, {'c': 3, 'd': 4})\n",
      "ChainMap({'e': 5}, {'a': 1, 'b': 2}, {'c': 3, 'd': 4})\n",
      "The keys are:  ['c', 'd', 'a', 'b']\n",
      "The values are:  [3, 4, 1, 2]\n",
      "ChainMap({'c': 3, 'd': 4}, {'a': 1, 'b': 2}, {'e': 5})\n"
     ]
    }
   ],
   "source": [
    "#Chain Maps\n",
    "from collections import ChainMap\n",
    "\n",
    "dic1 = {'a':1, 'b':2}\n",
    "dic2 = {'c':3, 'd':4}\n",
    "dic3 = {'e':5}\n",
    "\n",
    "c = ChainMap(dic1, dic2)\n",
    "\n",
    "print(c)\n",
    "\n",
    "c1 = c.new_child(dic3)\n",
    "print(c)\n",
    "print(c1)\n",
    "\n",
    "\n",
    "print(\"The keys are: \", list(c.keys()))\n",
    "print(\"The values are: \", list(c.values()))\n",
    "\n",
    "c1.maps = reversed(c1.maps)\n",
    "print(c1)"
   ]
  },
  {
   "cell_type": "code",
   "execution_count": 63,
   "metadata": {},
   "outputs": [
    {
     "name": "stdout",
     "output_type": "stream",
     "text": [
      "Student(name='Akshay', age='25', dob='02/11/1994')\n",
      "25\n",
      "Akshay\n",
      "Student(name='Amar', age='27', dob='21/05/1993')\n",
      "{'name': 'Akshay', 'age': '25', 'dob': '02/11/1994'}\n",
      "02/11/1994\n",
      "Student(name='Rajat', age=25, dob='30/12/1994')\n",
      "('name', 'age', 'dob')\n",
      "Student(name='Aditi', age='25', dob='02/11/1994')\n"
     ]
    }
   ],
   "source": [
    "# Named Tuple\n",
    "from collections import namedtuple\n",
    "\n",
    "student_details = namedtuple('Student', ['name', 'age', 'dob'])\n",
    "s1 = student_details('Akshay', '25', '02/11/1994')\n",
    "\n",
    "print(s1)\n",
    "print(s1[1])\n",
    "print(s1.name)\n",
    "\n",
    "l1 = ['Amar', '27', '21/05/1993']\n",
    "d1 = { 'name' : \"Rajat\", 'age' : 25 , 'dob' : '30/12/1994' } \n",
    "\n",
    "print(student_details._make(l1))\n",
    "print(s1._asdict())\n",
    "\n",
    "print(getattr(s1, 'dob'))\n",
    "\n",
    "print(student_details(**d1))\n",
    "\n",
    "print(s1._fields)\n",
    "\n",
    "print(s1._replace(name = \"Aditi\"))\n"
   ]
  },
  {
   "cell_type": "code",
   "execution_count": 52,
   "metadata": {},
   "outputs": [
    {
     "name": "stdout",
     "output_type": "stream",
     "text": [
      "deque([1, 2, 3, 4])\n",
      "deque([5, 1, 2, 3, 4])\n",
      "deque([5, 1, 2, 3])\n",
      "deque([1, 2, 3])\n",
      "deque([6, 1, 2, 3])\n",
      "deque([6, 1, 2, 3, 7, 8, 9])\n",
      "deque([12, 11, 10, 6, 1, 2, 3, 7, 8, 9])\n",
      "deque([11, 10, 6, 1, 2, 3, 7, 8, 9])\n",
      "1\n",
      "deque([9, 8, 7, 3, 2, 1, 6, 10, 11])\n",
      "deque([11, 9, 8, 7, 3, 2, 1, 6, 10])\n",
      "deque([8, 7, 3, 2, 1, 6, 10, 11, 9])\n"
     ]
    }
   ],
   "source": [
    "#Doubly Ended Queue\n",
    "from collections import deque\n",
    "\n",
    "q1 = deque([1, 2, 3])\n",
    "\n",
    "q1.append(4)\n",
    "print(q1)\n",
    "\n",
    "q1.appendleft(5)\n",
    "print(q1)\n",
    "\n",
    "q1.pop()\n",
    "print(q1)\n",
    "\n",
    "q1.popleft()\n",
    "print(q1)\n",
    "\n",
    "q1.insert(0, 6)\n",
    "print(q1)\n",
    "\n",
    "q1.extend([7, 8, 9])\n",
    "print(q1)\n",
    "\n",
    "q1.extendleft([10, 11, 12])\n",
    "print(q1)\n",
    "\n",
    "q1.remove(12)\n",
    "print(q1)\n",
    "\n",
    "print(q1.count(10))\n",
    "\n",
    "q1.reverse()\n",
    "print(q1)\n",
    "\n",
    "q1.rotate(1)\n",
    "print(q1)\n",
    "\n",
    "q1.rotate(-2)\n",
    "print(q1)\n"
   ]
  },
  {
   "cell_type": "code",
   "execution_count": 55,
   "metadata": {},
   "outputs": [
    {
     "name": "stderr",
     "output_type": "stream",
     "text": [
      "Exception ignored in: <function myDictClass.__del__ at 0x000001A91B5785E0>\n",
      "Traceback (most recent call last):\n",
      "  File \"<ipython-input-54-b4cd9edac34d>\", line 8, in __del__\n",
      "RuntimeError: Deletion not allowed\n"
     ]
    }
   ],
   "source": [
    "#User Dict\n",
    "# similar is the functionality for UserString and UserList\n",
    "from collections import UserDict\n",
    "\n",
    "class myDictClass(UserDict):\n",
    "    \n",
    "    def __del__(self):\n",
    "        raise RuntimeError(\"Deletion not allowed\")\n",
    "        \n",
    "d = myDictClass({'a':1, 'b':2})\n",
    "del d['a']"
   ]
  }
 ],
 "metadata": {
  "kernelspec": {
   "display_name": "Python 3",
   "language": "python",
   "name": "python3"
  },
  "language_info": {
   "codemirror_mode": {
    "name": "ipython",
    "version": 3
   },
   "file_extension": ".py",
   "mimetype": "text/x-python",
   "name": "python",
   "nbconvert_exporter": "python",
   "pygments_lexer": "ipython3",
   "version": "3.8.3"
  }
 },
 "nbformat": 4,
 "nbformat_minor": 4
}
