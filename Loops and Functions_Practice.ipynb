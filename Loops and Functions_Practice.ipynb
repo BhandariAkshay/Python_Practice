{
 "cells": [
  {
   "cell_type": "code",
   "execution_count": 17,
   "metadata": {},
   "outputs": [
    {
     "name": "stdout",
     "output_type": "stream",
     "text": [
      "0 1 1 2 3 5 8 13 21 34 55 89 "
     ]
    }
   ],
   "source": [
    "i,j = 0,1 #fibonacci series\n",
    "print(i, end  = \" \")\n",
    "while j < 100:\n",
    "        (i, j) = (j, i + j)\n",
    "        print(i, end = \" \")\n",
    "    "
   ]
  },
  {
   "cell_type": "code",
   "execution_count": 10,
   "metadata": {},
   "outputs": [
    {
     "name": "stdout",
     "output_type": "stream",
     "text": [
      "1 3 5 7 9 11 13 15 17 19 21 23 25 27 29 31 33 35 37 39 41 43 45 47 49 51 53 55 57 59 61 63 65 67 69 71 73 75 77 79 81 83 85 87 89 91 93 95 97 99 "
     ]
    }
   ],
   "source": [
    "for i in range(1, 100, 2): #odd no from 1 to 100\n",
    "    print(i, end = \" \")"
   ]
  },
  {
   "cell_type": "code",
   "execution_count": 14,
   "metadata": {},
   "outputs": [
    {
     "name": "stdout",
     "output_type": "stream",
     "text": [
      "\n",
      "*\n",
      "**\n",
      "***\n",
      "****\n",
      "*****\n"
     ]
    }
   ],
   "source": [
    "for i in range(6):\n",
    "    print(\"*\" * i)"
   ]
  },
  {
   "cell_type": "code",
   "execution_count": 22,
   "metadata": {},
   "outputs": [
    {
     "name": "stdout",
     "output_type": "stream",
     "text": [
      "      \n",
      "     *\n",
      "    **\n",
      "   ***\n",
      "  ****\n",
      " *****\n"
     ]
    }
   ],
   "source": [
    "n = 5\n",
    "for i in range(n+1):\n",
    "    print((n-i) * ' ', (\"*\" * i))"
   ]
  },
  {
   "cell_type": "code",
   "execution_count": 28,
   "metadata": {},
   "outputs": [
    {
     "name": "stdout",
     "output_type": "stream",
     "text": [
      "\n",
      "*\n",
      "**\n",
      "***\n",
      "****\n",
      "*****\n",
      "****\n",
      "***\n",
      "**\n",
      "*\n"
     ]
    }
   ],
   "source": [
    "n = 5\n",
    "for i in range(n+1):\n",
    "    print(\"*\" * i)\n",
    "for j in range(n-1, 0, -1):\n",
    "    print(\"*\" * j)"
   ]
  },
  {
   "cell_type": "code",
   "execution_count": 35,
   "metadata": {},
   "outputs": [
    {
     "name": "stdout",
     "output_type": "stream",
     "text": [
      "*****\n",
      "****\n",
      "***\n",
      "**\n",
      "*\n",
      "**\n",
      "***\n",
      "****\n",
      "*****\n"
     ]
    }
   ],
   "source": [
    "n = 5\n",
    "for j in range(n, 0, -1):\n",
    "    print(\"*\" * j)\n",
    "for i in range(2, n+1):\n",
    "    print(\"*\" * i)"
   ]
  },
  {
   "cell_type": "code",
   "execution_count": 58,
   "metadata": {},
   "outputs": [
    {
     "name": "stdout",
     "output_type": "stream",
     "text": [
      "720\n"
     ]
    }
   ],
   "source": [
    "def factorial(n):\n",
    "    fact = 1\n",
    "    for i in range(1,n+1):\n",
    "        fact = fact * i\n",
    "    return fact\n",
    "\n",
    "print (factorial(6))"
   ]
  },
  {
   "cell_type": "code",
   "execution_count": 71,
   "metadata": {},
   "outputs": [
    {
     "name": "stdout",
     "output_type": "stream",
     "text": [
      "Welcome to the Calculator Operations\n",
      "\n",
      "Which Operation would you like to perform?\n",
      "1. Addition\n",
      "2. Multiplication\n",
      "3. Division\n",
      "4. Subtraction\n",
      "5. Remainder\n",
      "\n",
      "2\n",
      "Please enter 2 numbers: 2 3\n",
      "The addition is: 6\n"
     ]
    }
   ],
   "source": [
    "def add(a,b):\n",
    "    return (a + b)\n",
    "\n",
    "def subtract(a,b):\n",
    "    return a-b\n",
    "\n",
    "def multiply(a,b):\n",
    "    return a*b\n",
    "\n",
    "def divide(a,b):\n",
    "    if(b==0):\n",
    "        return \"Cannot divide by zero\"\n",
    "    else:\n",
    "        return a/b\n",
    "\n",
    "def remainder(a,b):\n",
    "    if(b==0):\n",
    "        return \"Cannot divide by zero\"\n",
    "    else:\n",
    "        return a % b\n",
    "\n",
    "\n",
    "print(\"Welcome to the Calculator Operations\")\n",
    "print(\"\"\"\n",
    "Which Operation would you like to perform?\n",
    "1. Addition\n",
    "2. Multiplication\n",
    "3. Division\n",
    "4. Subtraction\n",
    "5. Remainder\n",
    "\"\"\")\n",
    "\n",
    "choice = int(input())\n",
    "a,b = input(\"Please enter 2 numbers: \").split()\n",
    "if choice == 1:\n",
    "    print(\"The addition is:\", add(int(a),int(b)))\n",
    "elif choice == 2:\n",
    "    print(\"The addition is:\", multiply(int(a),int(b)))\n",
    "elif choice == 3:\n",
    "    print(\"The addition is:\", divide(int(a),int(b)))\n",
    "elif choice == 4:\n",
    "    print(\"The addition is:\", subtract(int(a),int(b)))\n",
    "elif choice == 5:\n",
    "    print(\"The addition is:\", remainder(int(a),int(b)))\n",
    "else:\n",
    "    print(\"Please select a valid option\")"
   ]
  }
 ],
 "metadata": {
  "kernelspec": {
   "display_name": "Python 3",
   "language": "python",
   "name": "python3"
  },
  "language_info": {
   "codemirror_mode": {
    "name": "ipython",
    "version": 3
   },
   "file_extension": ".py",
   "mimetype": "text/x-python",
   "name": "python",
   "nbconvert_exporter": "python",
   "pygments_lexer": "ipython3",
   "version": "3.8.3"
  }
 },
 "nbformat": 4,
 "nbformat_minor": 4
}
