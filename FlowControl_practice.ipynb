{
 "cells": [
  {
   "cell_type": "code",
   "execution_count": 1,
   "metadata": {},
   "outputs": [
    {
     "data": {
      "text/plain": [
       "True"
      ]
     },
     "execution_count": 1,
     "metadata": {},
     "output_type": "execute_result"
    }
   ],
   "source": [
    "(1<2) and (2<3)"
   ]
  },
  {
   "cell_type": "code",
   "execution_count": 2,
   "metadata": {},
   "outputs": [
    {
     "data": {
      "text/plain": [
       "False"
      ]
     },
     "execution_count": 2,
     "metadata": {},
     "output_type": "execute_result"
    }
   ],
   "source": [
    "(1>2) and (1<2)"
   ]
  },
  {
   "cell_type": "code",
   "execution_count": 3,
   "metadata": {},
   "outputs": [
    {
     "data": {
      "text/plain": [
       "True"
      ]
     },
     "execution_count": 3,
     "metadata": {},
     "output_type": "execute_result"
    }
   ],
   "source": [
    "(1>2) or (1<2)"
   ]
  },
  {
   "cell_type": "code",
   "execution_count": 5,
   "metadata": {},
   "outputs": [
    {
     "data": {
      "text/plain": [
       "False"
      ]
     },
     "execution_count": 5,
     "metadata": {},
     "output_type": "execute_result"
    }
   ],
   "source": [
    "not (1)"
   ]
  },
  {
   "cell_type": "code",
   "execution_count": 6,
   "metadata": {},
   "outputs": [
    {
     "data": {
      "text/plain": [
       "False"
      ]
     },
     "execution_count": 6,
     "metadata": {},
     "output_type": "execute_result"
    }
   ],
   "source": [
    "not (4)"
   ]
  },
  {
   "cell_type": "code",
   "execution_count": 7,
   "metadata": {},
   "outputs": [
    {
     "data": {
      "text/plain": [
       "False"
      ]
     },
     "execution_count": 7,
     "metadata": {},
     "output_type": "execute_result"
    }
   ],
   "source": [
    "not 5"
   ]
  },
  {
   "cell_type": "code",
   "execution_count": 8,
   "metadata": {},
   "outputs": [
    {
     "name": "stdout",
     "output_type": "stream",
     "text": [
      "12\n"
     ]
    },
    {
     "ename": "TypeError",
     "evalue": "'<' not supported between instances of 'str' and 'int'",
     "output_type": "error",
     "traceback": [
      "\u001b[1;31m---------------------------------------------------------------------------\u001b[0m",
      "\u001b[1;31mTypeError\u001b[0m                                 Traceback (most recent call last)",
      "\u001b[1;32m<ipython-input-8-274fc822b9cb>\u001b[0m in \u001b[0;36m<module>\u001b[1;34m\u001b[0m\n\u001b[0;32m      1\u001b[0m \u001b[0mage\u001b[0m \u001b[1;33m=\u001b[0m \u001b[0minput\u001b[0m\u001b[1;33m(\u001b[0m\u001b[1;33m)\u001b[0m\u001b[1;33m\u001b[0m\u001b[1;33m\u001b[0m\u001b[0m\n\u001b[1;32m----> 2\u001b[1;33m \u001b[1;32mif\u001b[0m \u001b[1;33m(\u001b[0m\u001b[0mage\u001b[0m \u001b[1;33m<\u001b[0m \u001b[1;36m10\u001b[0m\u001b[1;33m)\u001b[0m\u001b[1;33m:\u001b[0m\u001b[1;33m\u001b[0m\u001b[1;33m\u001b[0m\u001b[0m\n\u001b[0m\u001b[0;32m      3\u001b[0m     \u001b[0mprint\u001b[0m\u001b[1;33m(\u001b[0m\u001b[1;34m\"You are still a kid bro\"\u001b[0m\u001b[1;33m)\u001b[0m\u001b[1;33m\u001b[0m\u001b[1;33m\u001b[0m\u001b[0m\n\u001b[0;32m      4\u001b[0m \u001b[1;32melif\u001b[0m \u001b[0mage\u001b[0m \u001b[1;33m>\u001b[0m\u001b[1;36m10\u001b[0m\u001b[1;33m:\u001b[0m\u001b[1;33m\u001b[0m\u001b[1;33m\u001b[0m\u001b[0m\n\u001b[0;32m      5\u001b[0m     \u001b[0mprint\u001b[0m\u001b[1;33m(\u001b[0m\u001b[1;34m\"Theres a lot of growth pending\"\u001b[0m\u001b[1;33m)\u001b[0m\u001b[1;33m\u001b[0m\u001b[1;33m\u001b[0m\u001b[0m\n",
      "\u001b[1;31mTypeError\u001b[0m: '<' not supported between instances of 'str' and 'int'"
     ]
    }
   ],
   "source": [
    "age = input()\n",
    "if (age < 10):\n",
    "    print(\"You are still a kid bro\")\n",
    "elif age >10:\n",
    "    print(\"Theres a lot of growth pending\")"
   ]
  },
  {
   "cell_type": "code",
   "execution_count": 11,
   "metadata": {},
   "outputs": [
    {
     "name": "stdout",
     "output_type": "stream",
     "text": [
      "Enter your age: \n",
      "15\n",
      "Theres a lot of growth pending\n"
     ]
    }
   ],
   "source": [
    "print(\"Enter your age: \")\n",
    "age = int(input())\n",
    "if age < 10:\n",
    "    print(\"You are still a kid bro\")\n",
    "elif age > 10:\n",
    "    print(\"Theres a lot of growth pending\")"
   ]
  },
  {
   "cell_type": "code",
   "execution_count": 15,
   "metadata": {},
   "outputs": [
    {
     "name": "stdout",
     "output_type": "stream",
     "text": [
      "Let's Play A Game Now!\n",
      "You are in a middle of an Unkown Palace\n",
      "There are 3 doors which you will have to chose from\n",
      "Only one door is the right choice and you will come out safely else you will die.\n",
      "\n",
      "Enter the door number: \n",
      "2\n",
      "So you have selected Door No.  2 Now Let's the Almighty save you!\n",
      "That's a good choice. You are safe now and can exit this way.\n"
     ]
    }
   ],
   "source": [
    "print(\"Let's Play A Game Now!\")\n",
    "print(\"\"\"You are in a middle of an Unkown Palace\n",
    "There are 3 doors which you will have to chose from\n",
    "Only one door is the right choice and you will come out safely else you will die.\n",
    "\"\"\")\n",
    "print(\"Enter the door number: \")\n",
    "door_number = int(input())\n",
    "\n",
    "print(\"So you have selected Door No. \", door_number, \",Now Let's the Almighty save you!\")\n",
    "\n",
    "if door_number == 1:\n",
    "    print(\"\"\"\n",
    "    HA! HA! HA! HA!\n",
    "    You have entered into the Thanos's Universe. No one can save you now!\n",
    "    I will trash you into pieces...\n",
    "    \"\"\")\n",
    "    \n",
    "    print(\"\"\"\n",
    "    I am giving you 2 choices to select your way of death\n",
    "    1. You will kill yourself with a sword kept beside you\n",
    "    2. My team will cut you into peices\n",
    "    So, what's your choice?\n",
    "    \"\"\")\n",
    "    \n",
    "    choice = int(input())\n",
    "    if choice == 1:\n",
    "        print(\"Kill yourself now :(\")\n",
    "    elif choice == 2:\n",
    "        print(\"Team, cut him into pieces! That's my order\")\n",
    "    else:\n",
    "        print(\"Do you think you are intelligent than me. Now I will kill you\")      \n",
    "\n",
    "elif door_number == 2:\n",
    "    print(\"That's a good choice. You are safe now and can exit this way.\")\n",
    "\n",
    "elif door_number == 3:\n",
    "    print(\"\"\"\n",
    "    You have entered into the White Witch's Land of Narnia. \n",
    "    No one can save you now!\n",
    "    You will be my slave for your entire life on this planet of mine!!\n",
    "    \"\"\")\n",
    "\n",
    "else:\n",
    "    print(\"You will die here in the middle of Palace!\")"
   ]
  },
  {
   "cell_type": "code",
   "execution_count": null,
   "metadata": {},
   "outputs": [],
   "source": []
  }
 ],
 "metadata": {
  "kernelspec": {
   "display_name": "Python 3",
   "language": "python",
   "name": "python3"
  },
  "language_info": {
   "codemirror_mode": {
    "name": "ipython",
    "version": 3
   },
   "file_extension": ".py",
   "mimetype": "text/x-python",
   "name": "python",
   "nbconvert_exporter": "python",
   "pygments_lexer": "ipython3",
   "version": "3.8.3"
  }
 },
 "nbformat": 4,
 "nbformat_minor": 4
}
